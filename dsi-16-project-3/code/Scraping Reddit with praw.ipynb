{
 "cells": [
  {
   "cell_type": "markdown",
   "metadata": {},
   "source": [
    "# Supplement Notebook for Project 3"
   ]
  },
  {
   "cell_type": "code",
   "execution_count": 1,
   "metadata": {},
   "outputs": [],
   "source": [
    "import praw\n",
    "import pandas as pd"
   ]
  },
  {
   "cell_type": "code",
   "execution_count": 2,
   "metadata": {},
   "outputs": [],
   "source": [
    "reddit = praw.Reddit(client_id='OwVEAMEXqPhw8Q',\n",
    "                        client_secret=\"cTb-60WClfOM_kZAMFD2hg6N_IY\", password='dsi16-2020',\n",
    "                        user_agent='Alexis 1.0', username='OkReddit1620')"
   ]
  },
  {
   "cell_type": "code",
   "execution_count": 17,
   "metadata": {},
   "outputs": [],
   "source": [
    "sreddit_lpt = reddit.subreddit('LifeProTips')\n",
    "lpt_hot_1000 = sreddit_lpt.top('year',limit=1000)"
   ]
  },
  {
   "cell_type": "code",
   "execution_count": 6,
   "metadata": {},
   "outputs": [
    {
     "data": {
      "text/plain": [
       "praw.models.listing.generator.ListingGenerator"
      ]
     },
     "execution_count": 6,
     "metadata": {},
     "output_type": "execute_result"
    }
   ],
   "source": [
    "type(lpt_hot_1000)"
   ]
  },
  {
   "cell_type": "code",
   "execution_count": 18,
   "metadata": {},
   "outputs": [],
   "source": [
    "post_list = []\n",
    "for p in lpt_hot_1000:\n",
    "    post={}\n",
    "    post['subreddit'] = str(p.subreddit)\n",
    "    post['selftext'] = str(p.selftext)\n",
    "    post['score'] = p.score\n",
    "    post['title'] = str(p.title)\n",
    "    post['upvote_ratio'] = p.upvote_ratio\n",
    "    post['created_utc'] = p.created_utc\n",
    "    post['id'] = str(p.id)\n",
    "    post['fullname'] = str(p.fullname)\n",
    "    post['num_comments'] = p.num_comments\n",
    "    post['url'] = str(p.url)\n",
    "    post['total_awards_received'] = p.total_awards_received\n",
    "    post['author'] = p.author\n",
    "    post_list.append(post)"
   ]
  },
  {
   "cell_type": "code",
   "execution_count": 19,
   "metadata": {},
   "outputs": [
    {
     "data": {
      "text/plain": [
       "1000"
      ]
     },
     "execution_count": 19,
     "metadata": {},
     "output_type": "execute_result"
    }
   ],
   "source": [
    "len(post_list)"
   ]
  },
  {
   "cell_type": "code",
   "execution_count": 20,
   "metadata": {},
   "outputs": [],
   "source": [
    "df = pd.DataFrame(post_list)"
   ]
  },
  {
   "cell_type": "code",
   "execution_count": 21,
   "metadata": {},
   "outputs": [
    {
     "data": {
      "text/html": [
       "<div>\n",
       "<style scoped>\n",
       "    .dataframe tbody tr th:only-of-type {\n",
       "        vertical-align: middle;\n",
       "    }\n",
       "\n",
       "    .dataframe tbody tr th {\n",
       "        vertical-align: top;\n",
       "    }\n",
       "\n",
       "    .dataframe thead th {\n",
       "        text-align: right;\n",
       "    }\n",
       "</style>\n",
       "<table border=\"1\" class=\"dataframe\">\n",
       "  <thead>\n",
       "    <tr style=\"text-align: right;\">\n",
       "      <th></th>\n",
       "      <th>subreddit</th>\n",
       "      <th>selftext</th>\n",
       "      <th>score</th>\n",
       "      <th>title</th>\n",
       "      <th>upvote_ratio</th>\n",
       "      <th>created_utc</th>\n",
       "      <th>id</th>\n",
       "      <th>fullname</th>\n",
       "      <th>num_comments</th>\n",
       "      <th>url</th>\n",
       "      <th>total_awards_received</th>\n",
       "      <th>author</th>\n",
       "    </tr>\n",
       "  </thead>\n",
       "  <tbody>\n",
       "    <tr>\n",
       "      <th>0</th>\n",
       "      <td>LifeProTips</td>\n",
       "      <td>I had a phone interview scheduled this morning...</td>\n",
       "      <td>165153</td>\n",
       "      <td>LPT: keep your mouth shut, and don't volunteer...</td>\n",
       "      <td>0.96</td>\n",
       "      <td>1.582156e+09</td>\n",
       "      <td>f6jt5e</td>\n",
       "      <td>t3_f6jt5e</td>\n",
       "      <td>4973</td>\n",
       "      <td>https://www.reddit.com/r/LifeProTips/comments/...</td>\n",
       "      <td>37</td>\n",
       "      <td>w2555</td>\n",
       "    </tr>\n",
       "    <tr>\n",
       "      <th>1</th>\n",
       "      <td>LifeProTips</td>\n",
       "      <td></td>\n",
       "      <td>131334</td>\n",
       "      <td>LPT: If you want a smarter kid, teach your chi...</td>\n",
       "      <td>0.92</td>\n",
       "      <td>1.585245e+09</td>\n",
       "      <td>fpfwra</td>\n",
       "      <td>t3_fpfwra</td>\n",
       "      <td>3103</td>\n",
       "      <td>https://www.reddit.com/r/LifeProTips/comments/...</td>\n",
       "      <td>13</td>\n",
       "      <td>Moonripple616</td>\n",
       "    </tr>\n",
       "    <tr>\n",
       "      <th>2</th>\n",
       "      <td>LifeProTips</td>\n",
       "      <td>I just found this quote online and wanted to s...</td>\n",
       "      <td>107877</td>\n",
       "      <td>LPT: Just because you did something wrong in t...</td>\n",
       "      <td>0.94</td>\n",
       "      <td>1.588878e+09</td>\n",
       "      <td>gfcq4g</td>\n",
       "      <td>t3_gfcq4g</td>\n",
       "      <td>2036</td>\n",
       "      <td>https://www.reddit.com/r/LifeProTips/comments/...</td>\n",
       "      <td>23</td>\n",
       "      <td>ninnymugginsss</td>\n",
       "    </tr>\n",
       "    <tr>\n",
       "      <th>3</th>\n",
       "      <td>LifeProTips</td>\n",
       "      <td>Side note: this does not apply to people who a...</td>\n",
       "      <td>106215</td>\n",
       "      <td>LPT: The next time you catch yourself judging ...</td>\n",
       "      <td>0.92</td>\n",
       "      <td>1.593094e+09</td>\n",
       "      <td>hfmqyd</td>\n",
       "      <td>t3_hfmqyd</td>\n",
       "      <td>1978</td>\n",
       "      <td>https://www.reddit.com/r/LifeProTips/comments/...</td>\n",
       "      <td>20</td>\n",
       "      <td>podotash</td>\n",
       "    </tr>\n",
       "    <tr>\n",
       "      <th>4</th>\n",
       "      <td>LifeProTips</td>\n",
       "      <td>The post nut clarity is real, without the humi...</td>\n",
       "      <td>104542</td>\n",
       "      <td>LPT: Anytime you think about contacting an ex ...</td>\n",
       "      <td>0.87</td>\n",
       "      <td>1.594671e+09</td>\n",
       "      <td>hqmot1</td>\n",
       "      <td>t3_hqmot1</td>\n",
       "      <td>2893</td>\n",
       "      <td>https://www.reddit.com/r/LifeProTips/comments/...</td>\n",
       "      <td>45</td>\n",
       "      <td>WellThatsPrompting</td>\n",
       "    </tr>\n",
       "  </tbody>\n",
       "</table>\n",
       "</div>"
      ],
      "text/plain": [
       "     subreddit                                           selftext   score  \\\n",
       "0  LifeProTips  I had a phone interview scheduled this morning...  165153   \n",
       "1  LifeProTips                                                     131334   \n",
       "2  LifeProTips  I just found this quote online and wanted to s...  107877   \n",
       "3  LifeProTips  Side note: this does not apply to people who a...  106215   \n",
       "4  LifeProTips  The post nut clarity is real, without the humi...  104542   \n",
       "\n",
       "                                               title  upvote_ratio  \\\n",
       "0  LPT: keep your mouth shut, and don't volunteer...          0.96   \n",
       "1  LPT: If you want a smarter kid, teach your chi...          0.92   \n",
       "2  LPT: Just because you did something wrong in t...          0.94   \n",
       "3  LPT: The next time you catch yourself judging ...          0.92   \n",
       "4  LPT: Anytime you think about contacting an ex ...          0.87   \n",
       "\n",
       "    created_utc      id   fullname  num_comments  \\\n",
       "0  1.582156e+09  f6jt5e  t3_f6jt5e          4973   \n",
       "1  1.585245e+09  fpfwra  t3_fpfwra          3103   \n",
       "2  1.588878e+09  gfcq4g  t3_gfcq4g          2036   \n",
       "3  1.593094e+09  hfmqyd  t3_hfmqyd          1978   \n",
       "4  1.594671e+09  hqmot1  t3_hqmot1          2893   \n",
       "\n",
       "                                                 url  total_awards_received  \\\n",
       "0  https://www.reddit.com/r/LifeProTips/comments/...                     37   \n",
       "1  https://www.reddit.com/r/LifeProTips/comments/...                     13   \n",
       "2  https://www.reddit.com/r/LifeProTips/comments/...                     23   \n",
       "3  https://www.reddit.com/r/LifeProTips/comments/...                     20   \n",
       "4  https://www.reddit.com/r/LifeProTips/comments/...                     45   \n",
       "\n",
       "               author  \n",
       "0               w2555  \n",
       "1       Moonripple616  \n",
       "2      ninnymugginsss  \n",
       "3            podotash  \n",
       "4  WellThatsPrompting  "
      ]
     },
     "execution_count": 21,
     "metadata": {},
     "output_type": "execute_result"
    }
   ],
   "source": [
    "df.head()"
   ]
  },
  {
   "cell_type": "code",
   "execution_count": 22,
   "metadata": {},
   "outputs": [
    {
     "data": {
      "text/html": [
       "<div>\n",
       "<style scoped>\n",
       "    .dataframe tbody tr th:only-of-type {\n",
       "        vertical-align: middle;\n",
       "    }\n",
       "\n",
       "    .dataframe tbody tr th {\n",
       "        vertical-align: top;\n",
       "    }\n",
       "\n",
       "    .dataframe thead th {\n",
       "        text-align: right;\n",
       "    }\n",
       "</style>\n",
       "<table border=\"1\" class=\"dataframe\">\n",
       "  <thead>\n",
       "    <tr style=\"text-align: right;\">\n",
       "      <th></th>\n",
       "      <th>subreddit</th>\n",
       "      <th>selftext</th>\n",
       "      <th>score</th>\n",
       "      <th>title</th>\n",
       "      <th>upvote_ratio</th>\n",
       "      <th>created_utc</th>\n",
       "      <th>id</th>\n",
       "      <th>fullname</th>\n",
       "      <th>num_comments</th>\n",
       "      <th>url</th>\n",
       "      <th>total_awards_received</th>\n",
       "      <th>author</th>\n",
       "    </tr>\n",
       "  </thead>\n",
       "  <tbody>\n",
       "    <tr>\n",
       "      <th>593</th>\n",
       "      <td>LifeProTips</td>\n",
       "      <td>Here is a list of sites for online work that a...</td>\n",
       "      <td>6620</td>\n",
       "      <td>LPT: If you have a lot of free time at the mom...</td>\n",
       "      <td>0.96</td>\n",
       "      <td>1.588112e+09</td>\n",
       "      <td>g9wyby</td>\n",
       "      <td>t3_g9wyby</td>\n",
       "      <td>291</td>\n",
       "      <td>https://www.reddit.com/r/LifeProTips/comments/...</td>\n",
       "      <td>3</td>\n",
       "      <td>IveyRoney</td>\n",
       "    </tr>\n",
       "    <tr>\n",
       "      <th>733</th>\n",
       "      <td>LifeProTips</td>\n",
       "      <td>Edit: Wow 2 silver! My first time, thanks kind...</td>\n",
       "      <td>3627</td>\n",
       "      <td>LPT If you ever forget your WiFi password or y...</td>\n",
       "      <td>0.96</td>\n",
       "      <td>1.575529e+09</td>\n",
       "      <td>e6dlbm</td>\n",
       "      <td>t3_e6dlbm</td>\n",
       "      <td>270</td>\n",
       "      <td>https://www.reddit.com/r/LifeProTips/comments/...</td>\n",
       "      <td>2</td>\n",
       "      <td>slackftw</td>\n",
       "    </tr>\n",
       "  </tbody>\n",
       "</table>\n",
       "</div>"
      ],
      "text/plain": [
       "       subreddit                                           selftext  score  \\\n",
       "593  LifeProTips  Here is a list of sites for online work that a...   6620   \n",
       "733  LifeProTips  Edit: Wow 2 silver! My first time, thanks kind...   3627   \n",
       "\n",
       "                                                 title  upvote_ratio  \\\n",
       "593  LPT: If you have a lot of free time at the mom...          0.96   \n",
       "733  LPT If you ever forget your WiFi password or y...          0.96   \n",
       "\n",
       "      created_utc      id   fullname  num_comments  \\\n",
       "593  1.588112e+09  g9wyby  t3_g9wyby           291   \n",
       "733  1.575529e+09  e6dlbm  t3_e6dlbm           270   \n",
       "\n",
       "                                                   url  total_awards_received  \\\n",
       "593  https://www.reddit.com/r/LifeProTips/comments/...                      3   \n",
       "733  https://www.reddit.com/r/LifeProTips/comments/...                      2   \n",
       "\n",
       "        author  \n",
       "593  IveyRoney  \n",
       "733   slackftw  "
      ]
     },
     "execution_count": 22,
     "metadata": {},
     "output_type": "execute_result"
    }
   ],
   "source": [
    "df[df.duplicated(subset='title')]"
   ]
  },
  {
   "cell_type": "code",
   "execution_count": 27,
   "metadata": {},
   "outputs": [
    {
     "data": {
      "text/plain": [
       "\"LPT: If you have a lot of free time at the moment, you can generate a little income on the side by doing online work like teaching english, transcription, microtasks or surveys. It's not a fortune but if you have time to spare anyway it's a good way to pay a few bills. (list of sites attached)\""
      ]
     },
     "execution_count": 27,
     "metadata": {},
     "output_type": "execute_result"
    }
   ],
   "source": [
    "df.iloc[593]['title']"
   ]
  },
  {
   "cell_type": "code",
   "execution_count": 28,
   "metadata": {},
   "outputs": [
    {
     "data": {
      "text/html": [
       "<div>\n",
       "<style scoped>\n",
       "    .dataframe tbody tr th:only-of-type {\n",
       "        vertical-align: middle;\n",
       "    }\n",
       "\n",
       "    .dataframe tbody tr th {\n",
       "        vertical-align: top;\n",
       "    }\n",
       "\n",
       "    .dataframe thead th {\n",
       "        text-align: right;\n",
       "    }\n",
       "</style>\n",
       "<table border=\"1\" class=\"dataframe\">\n",
       "  <thead>\n",
       "    <tr style=\"text-align: right;\">\n",
       "      <th></th>\n",
       "      <th>subreddit</th>\n",
       "      <th>selftext</th>\n",
       "      <th>score</th>\n",
       "      <th>title</th>\n",
       "      <th>upvote_ratio</th>\n",
       "      <th>created_utc</th>\n",
       "      <th>id</th>\n",
       "      <th>fullname</th>\n",
       "      <th>num_comments</th>\n",
       "      <th>url</th>\n",
       "      <th>total_awards_received</th>\n",
       "      <th>author</th>\n",
       "    </tr>\n",
       "  </thead>\n",
       "  <tbody>\n",
       "    <tr>\n",
       "      <th>557</th>\n",
       "      <td>LifeProTips</td>\n",
       "      <td>Here is a list of sites for online work that a...</td>\n",
       "      <td>8053</td>\n",
       "      <td>LPT: If you have a lot of free time at the mom...</td>\n",
       "      <td>0.95</td>\n",
       "      <td>1.592401e+09</td>\n",
       "      <td>har8qo</td>\n",
       "      <td>t3_har8qo</td>\n",
       "      <td>337</td>\n",
       "      <td>https://www.reddit.com/r/LifeProTips/comments/...</td>\n",
       "      <td>5</td>\n",
       "      <td>IvyRoney</td>\n",
       "    </tr>\n",
       "    <tr>\n",
       "      <th>593</th>\n",
       "      <td>LifeProTips</td>\n",
       "      <td>Here is a list of sites for online work that a...</td>\n",
       "      <td>6620</td>\n",
       "      <td>LPT: If you have a lot of free time at the mom...</td>\n",
       "      <td>0.96</td>\n",
       "      <td>1.588112e+09</td>\n",
       "      <td>g9wyby</td>\n",
       "      <td>t3_g9wyby</td>\n",
       "      <td>291</td>\n",
       "      <td>https://www.reddit.com/r/LifeProTips/comments/...</td>\n",
       "      <td>3</td>\n",
       "      <td>IveyRoney</td>\n",
       "    </tr>\n",
       "  </tbody>\n",
       "</table>\n",
       "</div>"
      ],
      "text/plain": [
       "       subreddit                                           selftext  score  \\\n",
       "557  LifeProTips  Here is a list of sites for online work that a...   8053   \n",
       "593  LifeProTips  Here is a list of sites for online work that a...   6620   \n",
       "\n",
       "                                                 title  upvote_ratio  \\\n",
       "557  LPT: If you have a lot of free time at the mom...          0.95   \n",
       "593  LPT: If you have a lot of free time at the mom...          0.96   \n",
       "\n",
       "      created_utc      id   fullname  num_comments  \\\n",
       "557  1.592401e+09  har8qo  t3_har8qo           337   \n",
       "593  1.588112e+09  g9wyby  t3_g9wyby           291   \n",
       "\n",
       "                                                   url  total_awards_received  \\\n",
       "557  https://www.reddit.com/r/LifeProTips/comments/...                      5   \n",
       "593  https://www.reddit.com/r/LifeProTips/comments/...                      3   \n",
       "\n",
       "        author  \n",
       "557   IvyRoney  \n",
       "593  IveyRoney  "
      ]
     },
     "execution_count": 28,
     "metadata": {},
     "output_type": "execute_result"
    }
   ],
   "source": [
    "df.loc[df['title'] == \"LPT: If you have a lot of free time at the moment, you can generate a little income on the side by doing online work like teaching english, transcription, microtasks or surveys. It's not a fortune but if you have time to spare anyway it's a good way to pay a few bills. (list of sites attached)\",:]"
   ]
  },
  {
   "cell_type": "code",
   "execution_count": 29,
   "metadata": {},
   "outputs": [
    {
     "data": {
      "text/plain": [
       "'LPT If you ever forget your WiFi password or you want to get your school WiFi password etc. Just type this command into the command line of a computer already connected to that WiFi: netsh wlan show profile WiFi-name key=clear'"
      ]
     },
     "execution_count": 29,
     "metadata": {},
     "output_type": "execute_result"
    }
   ],
   "source": [
    "df.iloc[733]['title']"
   ]
  },
  {
   "cell_type": "code",
   "execution_count": 30,
   "metadata": {},
   "outputs": [
    {
     "data": {
      "text/html": [
       "<div>\n",
       "<style scoped>\n",
       "    .dataframe tbody tr th:only-of-type {\n",
       "        vertical-align: middle;\n",
       "    }\n",
       "\n",
       "    .dataframe tbody tr th {\n",
       "        vertical-align: top;\n",
       "    }\n",
       "\n",
       "    .dataframe thead th {\n",
       "        text-align: right;\n",
       "    }\n",
       "</style>\n",
       "<table border=\"1\" class=\"dataframe\">\n",
       "  <thead>\n",
       "    <tr style=\"text-align: right;\">\n",
       "      <th></th>\n",
       "      <th>subreddit</th>\n",
       "      <th>selftext</th>\n",
       "      <th>score</th>\n",
       "      <th>title</th>\n",
       "      <th>upvote_ratio</th>\n",
       "      <th>created_utc</th>\n",
       "      <th>id</th>\n",
       "      <th>fullname</th>\n",
       "      <th>num_comments</th>\n",
       "      <th>url</th>\n",
       "      <th>total_awards_received</th>\n",
       "      <th>author</th>\n",
       "    </tr>\n",
       "  </thead>\n",
       "  <tbody>\n",
       "    <tr>\n",
       "      <th>7</th>\n",
       "      <td>LifeProTips</td>\n",
       "      <td></td>\n",
       "      <td>97685</td>\n",
       "      <td>LPT If you ever forget your WiFi password or y...</td>\n",
       "      <td>0.95</td>\n",
       "      <td>1.568801e+09</td>\n",
       "      <td>d5vknk</td>\n",
       "      <td>t3_d5vknk</td>\n",
       "      <td>2908</td>\n",
       "      <td>https://www.reddit.com/r/LifeProTips/comments/...</td>\n",
       "      <td>13</td>\n",
       "      <td>None</td>\n",
       "    </tr>\n",
       "    <tr>\n",
       "      <th>733</th>\n",
       "      <td>LifeProTips</td>\n",
       "      <td>Edit: Wow 2 silver! My first time, thanks kind...</td>\n",
       "      <td>3627</td>\n",
       "      <td>LPT If you ever forget your WiFi password or y...</td>\n",
       "      <td>0.96</td>\n",
       "      <td>1.575529e+09</td>\n",
       "      <td>e6dlbm</td>\n",
       "      <td>t3_e6dlbm</td>\n",
       "      <td>270</td>\n",
       "      <td>https://www.reddit.com/r/LifeProTips/comments/...</td>\n",
       "      <td>2</td>\n",
       "      <td>slackftw</td>\n",
       "    </tr>\n",
       "  </tbody>\n",
       "</table>\n",
       "</div>"
      ],
      "text/plain": [
       "       subreddit                                           selftext  score  \\\n",
       "7    LifeProTips                                                     97685   \n",
       "733  LifeProTips  Edit: Wow 2 silver! My first time, thanks kind...   3627   \n",
       "\n",
       "                                                 title  upvote_ratio  \\\n",
       "7    LPT If you ever forget your WiFi password or y...          0.95   \n",
       "733  LPT If you ever forget your WiFi password or y...          0.96   \n",
       "\n",
       "      created_utc      id   fullname  num_comments  \\\n",
       "7    1.568801e+09  d5vknk  t3_d5vknk          2908   \n",
       "733  1.575529e+09  e6dlbm  t3_e6dlbm           270   \n",
       "\n",
       "                                                   url  total_awards_received  \\\n",
       "7    https://www.reddit.com/r/LifeProTips/comments/...                     13   \n",
       "733  https://www.reddit.com/r/LifeProTips/comments/...                      2   \n",
       "\n",
       "       author  \n",
       "7        None  \n",
       "733  slackftw  "
      ]
     },
     "execution_count": 30,
     "metadata": {},
     "output_type": "execute_result"
    }
   ],
   "source": [
    "df.loc[df['title'] == \"LPT If you ever forget your WiFi password or you want to get your school WiFi password etc. Just type this command into the command line of a computer already connected to that WiFi: netsh wlan show profile WiFi-name key=clear\",:]\n"
   ]
  },
  {
   "cell_type": "markdown",
   "metadata": {},
   "source": [
    "Based on the above, it looks like two of the posts were duplicates where another user copied a previous post. Since we don't need both instances of the post, we can drop the duplicated posts (index 593 and 733)."
   ]
  },
  {
   "cell_type": "code",
   "execution_count": 31,
   "metadata": {},
   "outputs": [],
   "source": [
    "df = df.drop([593,733],axis=0)\n",
    "df = df.reset_index()"
   ]
  },
  {
   "cell_type": "code",
   "execution_count": 23,
   "metadata": {},
   "outputs": [],
   "source": [
    "#df.to_csv('postlistlpt.csv')"
   ]
  },
  {
   "cell_type": "code",
   "execution_count": 35,
   "metadata": {},
   "outputs": [
    {
     "data": {
      "text/html": [
       "<div>\n",
       "<style scoped>\n",
       "    .dataframe tbody tr th:only-of-type {\n",
       "        vertical-align: middle;\n",
       "    }\n",
       "\n",
       "    .dataframe tbody tr th {\n",
       "        vertical-align: top;\n",
       "    }\n",
       "\n",
       "    .dataframe thead th {\n",
       "        text-align: right;\n",
       "    }\n",
       "</style>\n",
       "<table border=\"1\" class=\"dataframe\">\n",
       "  <thead>\n",
       "    <tr style=\"text-align: right;\">\n",
       "      <th></th>\n",
       "      <th>index</th>\n",
       "      <th>subreddit</th>\n",
       "      <th>selftext</th>\n",
       "      <th>score</th>\n",
       "      <th>title</th>\n",
       "      <th>upvote_ratio</th>\n",
       "      <th>created_utc</th>\n",
       "      <th>id</th>\n",
       "      <th>fullname</th>\n",
       "      <th>num_comments</th>\n",
       "      <th>url</th>\n",
       "      <th>total_awards_received</th>\n",
       "      <th>author</th>\n",
       "    </tr>\n",
       "  </thead>\n",
       "  <tbody>\n",
       "    <tr>\n",
       "      <th>935</th>\n",
       "      <td>937</td>\n",
       "      <td>LifeProTips</td>\n",
       "      <td>[removed]</td>\n",
       "      <td>1712</td>\n",
       "      <td>LPT: Preheat your Thermos by filling it with s...</td>\n",
       "      <td>0.93</td>\n",
       "      <td>1.593794e+09</td>\n",
       "      <td>hkmaj2</td>\n",
       "      <td>t3_hkmaj2</td>\n",
       "      <td>168</td>\n",
       "      <td>https://www.reddit.com/r/LifeProTips/comments/...</td>\n",
       "      <td>0</td>\n",
       "      <td>frizzycornerstone</td>\n",
       "    </tr>\n",
       "  </tbody>\n",
       "</table>\n",
       "</div>"
      ],
      "text/plain": [
       "     index    subreddit   selftext  score  \\\n",
       "935    937  LifeProTips  [removed]   1712   \n",
       "\n",
       "                                                 title  upvote_ratio  \\\n",
       "935  LPT: Preheat your Thermos by filling it with s...          0.93   \n",
       "\n",
       "      created_utc      id   fullname  num_comments  \\\n",
       "935  1.593794e+09  hkmaj2  t3_hkmaj2           168   \n",
       "\n",
       "                                                   url  total_awards_received  \\\n",
       "935  https://www.reddit.com/r/LifeProTips/comments/...                      0   \n",
       "\n",
       "                author  \n",
       "935  frizzycornerstone  "
      ]
     },
     "execution_count": 35,
     "metadata": {},
     "output_type": "execute_result"
    }
   ],
   "source": [
    "df[df.duplicated(subset='selftext') & (df['selftext'] != \"\")]"
   ]
  },
  {
   "cell_type": "markdown",
   "metadata": {},
   "source": [
    "There are no duplicated selftext values except for blank values and 'removed', so we can leave it. "
   ]
  },
  {
   "cell_type": "markdown",
   "metadata": {},
   "source": [
    "_Repeat for UnethicalLifeProTips_"
   ]
  },
  {
   "cell_type": "code",
   "execution_count": 38,
   "metadata": {},
   "outputs": [],
   "source": [
    "sreddit_ulpt = reddit.subreddit('UnethicalLifeProTips')\n",
    "ulpt_hot_1000 = sreddit_ulpt.top('year',limit=1000)"
   ]
  },
  {
   "cell_type": "code",
   "execution_count": 39,
   "metadata": {},
   "outputs": [],
   "source": [
    "post_list = []\n",
    "\n",
    "for p in ulpt_hot_1000:\n",
    "    post={}\n",
    "    post['subreddit'] = str(p.subreddit)\n",
    "    post['selftext'] = str(p.selftext)\n",
    "    post['score'] = p.score\n",
    "    post['title'] = str(p.title)\n",
    "    post['upvote_ratio'] = p.upvote_ratio\n",
    "    post['created_utc'] = p.created_utc\n",
    "    post['id'] = str(p.id)\n",
    "    post['fullname'] = str(p.fullname)\n",
    "    post['num_comments'] = p.num_comments\n",
    "    post['url'] = str(p.url)\n",
    "    post['total_awards_received'] = p.total_awards_received\n",
    "    post['author'] = p.author\n",
    "    post_list.append(post)"
   ]
  },
  {
   "cell_type": "code",
   "execution_count": 40,
   "metadata": {},
   "outputs": [],
   "source": [
    "df_ulpt = pd.DataFrame(post_list)"
   ]
  },
  {
   "cell_type": "code",
   "execution_count": 41,
   "metadata": {},
   "outputs": [
    {
     "data": {
      "text/html": [
       "<div>\n",
       "<style scoped>\n",
       "    .dataframe tbody tr th:only-of-type {\n",
       "        vertical-align: middle;\n",
       "    }\n",
       "\n",
       "    .dataframe tbody tr th {\n",
       "        vertical-align: top;\n",
       "    }\n",
       "\n",
       "    .dataframe thead th {\n",
       "        text-align: right;\n",
       "    }\n",
       "</style>\n",
       "<table border=\"1\" class=\"dataframe\">\n",
       "  <thead>\n",
       "    <tr style=\"text-align: right;\">\n",
       "      <th></th>\n",
       "      <th>subreddit</th>\n",
       "      <th>selftext</th>\n",
       "      <th>score</th>\n",
       "      <th>title</th>\n",
       "      <th>upvote_ratio</th>\n",
       "      <th>created_utc</th>\n",
       "      <th>id</th>\n",
       "      <th>fullname</th>\n",
       "      <th>num_comments</th>\n",
       "      <th>url</th>\n",
       "      <th>total_awards_received</th>\n",
       "      <th>author</th>\n",
       "    </tr>\n",
       "  </thead>\n",
       "  <tbody>\n",
       "    <tr>\n",
       "      <th>0</th>\n",
       "      <td>UnethicalLifeProTips</td>\n",
       "      <td></td>\n",
       "      <td>59286</td>\n",
       "      <td>ULPT: if you’re stuck on an annoying call, put...</td>\n",
       "      <td>0.93</td>\n",
       "      <td>1.595948e+09</td>\n",
       "      <td>hzg6il</td>\n",
       "      <td>t3_hzg6il</td>\n",
       "      <td>844</td>\n",
       "      <td>https://www.reddit.com/r/UnethicalLifeProTips/...</td>\n",
       "      <td>8</td>\n",
       "      <td>gotBooched</td>\n",
       "    </tr>\n",
       "    <tr>\n",
       "      <th>1</th>\n",
       "      <td>UnethicalLifeProTips</td>\n",
       "      <td>This is a repost from last year but the holida...</td>\n",
       "      <td>56794</td>\n",
       "      <td>ULPT: If a relative keeps asking you about hav...</td>\n",
       "      <td>0.93</td>\n",
       "      <td>1.568487e+09</td>\n",
       "      <td>d49942</td>\n",
       "      <td>t3_d49942</td>\n",
       "      <td>916</td>\n",
       "      <td>https://www.reddit.com/r/UnethicalLifeProTips/...</td>\n",
       "      <td>2</td>\n",
       "      <td>FascinatedBox</td>\n",
       "    </tr>\n",
       "    <tr>\n",
       "      <th>2</th>\n",
       "      <td>UnethicalLifeProTips</td>\n",
       "      <td>Military girlfriends/wives are FREEEEAKKKKS. A...</td>\n",
       "      <td>42918</td>\n",
       "      <td>ULPT: If you live near a US military base, it'...</td>\n",
       "      <td>0.83</td>\n",
       "      <td>1.578488e+09</td>\n",
       "      <td>els8pu</td>\n",
       "      <td>t3_els8pu</td>\n",
       "      <td>2933</td>\n",
       "      <td>https://www.reddit.com/r/UnethicalLifeProTips/...</td>\n",
       "      <td>4</td>\n",
       "      <td>BidensBuddyStrom</td>\n",
       "    </tr>\n",
       "    <tr>\n",
       "      <th>3</th>\n",
       "      <td>UnethicalLifeProTips</td>\n",
       "      <td></td>\n",
       "      <td>38976</td>\n",
       "      <td>ULPT: When you give someone a gift card as a g...</td>\n",
       "      <td>0.94</td>\n",
       "      <td>1.593633e+09</td>\n",
       "      <td>hjhpl0</td>\n",
       "      <td>t3_hjhpl0</td>\n",
       "      <td>859</td>\n",
       "      <td>https://www.reddit.com/r/UnethicalLifeProTips/...</td>\n",
       "      <td>1</td>\n",
       "      <td>d3vourm3nt</td>\n",
       "    </tr>\n",
       "    <tr>\n",
       "      <th>4</th>\n",
       "      <td>UnethicalLifeProTips</td>\n",
       "      <td>I found this out because it actually was true ...</td>\n",
       "      <td>38160</td>\n",
       "      <td>ULPT: If you have a significant unexplained em...</td>\n",
       "      <td>0.95</td>\n",
       "      <td>1.568736e+09</td>\n",
       "      <td>d5ixhz</td>\n",
       "      <td>t3_d5ixhz</td>\n",
       "      <td>1078</td>\n",
       "      <td>https://www.reddit.com/r/UnethicalLifeProTips/...</td>\n",
       "      <td>2</td>\n",
       "      <td>squirrelbee</td>\n",
       "    </tr>\n",
       "  </tbody>\n",
       "</table>\n",
       "</div>"
      ],
      "text/plain": [
       "              subreddit                                           selftext  \\\n",
       "0  UnethicalLifeProTips                                                      \n",
       "1  UnethicalLifeProTips  This is a repost from last year but the holida...   \n",
       "2  UnethicalLifeProTips  Military girlfriends/wives are FREEEEAKKKKS. A...   \n",
       "3  UnethicalLifeProTips                                                      \n",
       "4  UnethicalLifeProTips  I found this out because it actually was true ...   \n",
       "\n",
       "   score                                              title  upvote_ratio  \\\n",
       "0  59286  ULPT: if you’re stuck on an annoying call, put...          0.93   \n",
       "1  56794  ULPT: If a relative keeps asking you about hav...          0.93   \n",
       "2  42918  ULPT: If you live near a US military base, it'...          0.83   \n",
       "3  38976  ULPT: When you give someone a gift card as a g...          0.94   \n",
       "4  38160  ULPT: If you have a significant unexplained em...          0.95   \n",
       "\n",
       "    created_utc      id   fullname  num_comments  \\\n",
       "0  1.595948e+09  hzg6il  t3_hzg6il           844   \n",
       "1  1.568487e+09  d49942  t3_d49942           916   \n",
       "2  1.578488e+09  els8pu  t3_els8pu          2933   \n",
       "3  1.593633e+09  hjhpl0  t3_hjhpl0           859   \n",
       "4  1.568736e+09  d5ixhz  t3_d5ixhz          1078   \n",
       "\n",
       "                                                 url  total_awards_received  \\\n",
       "0  https://www.reddit.com/r/UnethicalLifeProTips/...                      8   \n",
       "1  https://www.reddit.com/r/UnethicalLifeProTips/...                      2   \n",
       "2  https://www.reddit.com/r/UnethicalLifeProTips/...                      4   \n",
       "3  https://www.reddit.com/r/UnethicalLifeProTips/...                      1   \n",
       "4  https://www.reddit.com/r/UnethicalLifeProTips/...                      2   \n",
       "\n",
       "             author  \n",
       "0        gotBooched  \n",
       "1     FascinatedBox  \n",
       "2  BidensBuddyStrom  \n",
       "3        d3vourm3nt  \n",
       "4       squirrelbee  "
      ]
     },
     "execution_count": 41,
     "metadata": {},
     "output_type": "execute_result"
    }
   ],
   "source": [
    "df_ulpt.head()"
   ]
  },
  {
   "cell_type": "code",
   "execution_count": 42,
   "metadata": {},
   "outputs": [
    {
     "data": {
      "text/html": [
       "<div>\n",
       "<style scoped>\n",
       "    .dataframe tbody tr th:only-of-type {\n",
       "        vertical-align: middle;\n",
       "    }\n",
       "\n",
       "    .dataframe tbody tr th {\n",
       "        vertical-align: top;\n",
       "    }\n",
       "\n",
       "    .dataframe thead th {\n",
       "        text-align: right;\n",
       "    }\n",
       "</style>\n",
       "<table border=\"1\" class=\"dataframe\">\n",
       "  <thead>\n",
       "    <tr style=\"text-align: right;\">\n",
       "      <th></th>\n",
       "      <th>subreddit</th>\n",
       "      <th>selftext</th>\n",
       "      <th>score</th>\n",
       "      <th>title</th>\n",
       "      <th>upvote_ratio</th>\n",
       "      <th>created_utc</th>\n",
       "      <th>id</th>\n",
       "      <th>fullname</th>\n",
       "      <th>num_comments</th>\n",
       "      <th>url</th>\n",
       "      <th>total_awards_received</th>\n",
       "      <th>author</th>\n",
       "    </tr>\n",
       "  </thead>\n",
       "  <tbody>\n",
       "    <tr>\n",
       "      <th>972</th>\n",
       "      <td>UnethicalLifeProTips</td>\n",
       "      <td>How do I verify myself in a NSFW discord serve...</td>\n",
       "      <td>0</td>\n",
       "      <td>ULPT REQUEST</td>\n",
       "      <td>0.41</td>\n",
       "      <td>1.572581e+09</td>\n",
       "      <td>dpz64y</td>\n",
       "      <td>t3_dpz64y</td>\n",
       "      <td>15</td>\n",
       "      <td>https://www.reddit.com/r/UnethicalLifeProTips/...</td>\n",
       "      <td>0</td>\n",
       "      <td>JacksonTheRock</td>\n",
       "    </tr>\n",
       "  </tbody>\n",
       "</table>\n",
       "</div>"
      ],
      "text/plain": [
       "                subreddit                                           selftext  \\\n",
       "972  UnethicalLifeProTips  How do I verify myself in a NSFW discord serve...   \n",
       "\n",
       "     score         title  upvote_ratio   created_utc      id   fullname  \\\n",
       "972      0  ULPT REQUEST          0.41  1.572581e+09  dpz64y  t3_dpz64y   \n",
       "\n",
       "     num_comments                                                url  \\\n",
       "972            15  https://www.reddit.com/r/UnethicalLifeProTips/...   \n",
       "\n",
       "     total_awards_received          author  \n",
       "972                      0  JacksonTheRock  "
      ]
     },
     "execution_count": 42,
     "metadata": {},
     "output_type": "execute_result"
    }
   ],
   "source": [
    "df_ulpt[df_ulpt.duplicated(subset='title')]"
   ]
  },
  {
   "cell_type": "code",
   "execution_count": 45,
   "metadata": {},
   "outputs": [
    {
     "data": {
      "text/html": [
       "<div>\n",
       "<style scoped>\n",
       "    .dataframe tbody tr th:only-of-type {\n",
       "        vertical-align: middle;\n",
       "    }\n",
       "\n",
       "    .dataframe tbody tr th {\n",
       "        vertical-align: top;\n",
       "    }\n",
       "\n",
       "    .dataframe thead th {\n",
       "        text-align: right;\n",
       "    }\n",
       "</style>\n",
       "<table border=\"1\" class=\"dataframe\">\n",
       "  <thead>\n",
       "    <tr style=\"text-align: right;\">\n",
       "      <th></th>\n",
       "      <th>subreddit</th>\n",
       "      <th>selftext</th>\n",
       "      <th>score</th>\n",
       "      <th>title</th>\n",
       "      <th>upvote_ratio</th>\n",
       "      <th>created_utc</th>\n",
       "      <th>id</th>\n",
       "      <th>fullname</th>\n",
       "      <th>num_comments</th>\n",
       "      <th>url</th>\n",
       "      <th>total_awards_received</th>\n",
       "      <th>author</th>\n",
       "    </tr>\n",
       "  </thead>\n",
       "  <tbody>\n",
       "  </tbody>\n",
       "</table>\n",
       "</div>"
      ],
      "text/plain": [
       "Empty DataFrame\n",
       "Columns: [subreddit, selftext, score, title, upvote_ratio, created_utc, id, fullname, num_comments, url, total_awards_received, author]\n",
       "Index: []"
      ]
     },
     "execution_count": 45,
     "metadata": {},
     "output_type": "execute_result"
    }
   ],
   "source": [
    "df_ulpt[df_ulpt.duplicated(subset='selftext') & (df_ulpt['selftext'] != \"\")]"
   ]
  },
  {
   "cell_type": "markdown",
   "metadata": {},
   "source": [
    "There are no duplicated posts that we need to address in this dataframe."
   ]
  },
  {
   "cell_type": "code",
   "execution_count": 47,
   "metadata": {},
   "outputs": [],
   "source": [
    "master_df = df.append(df_ulpt)"
   ]
  },
  {
   "cell_type": "code",
   "execution_count": 50,
   "metadata": {},
   "outputs": [],
   "source": [
    "master_df = master_df.drop(columns='index')"
   ]
  },
  {
   "cell_type": "code",
   "execution_count": 51,
   "metadata": {},
   "outputs": [],
   "source": [
    "master_df.to_csv('combined_top.csv',index=False)"
   ]
  },
  {
   "cell_type": "code",
   "execution_count": null,
   "metadata": {},
   "outputs": [],
   "source": []
  }
 ],
 "metadata": {
  "kernelspec": {
   "display_name": "Python 3",
   "language": "python",
   "name": "python3"
  },
  "language_info": {
   "codemirror_mode": {
    "name": "ipython",
    "version": 3
   },
   "file_extension": ".py",
   "mimetype": "text/x-python",
   "name": "python",
   "nbconvert_exporter": "python",
   "pygments_lexer": "ipython3",
   "version": "3.8.2"
  },
  "toc": {
   "base_numbering": 1,
   "nav_menu": {},
   "number_sections": true,
   "sideBar": true,
   "skip_h1_title": false,
   "title_cell": "Table of Contents",
   "title_sidebar": "Contents",
   "toc_cell": false,
   "toc_position": {},
   "toc_section_display": true,
   "toc_window_display": false
  }
 },
 "nbformat": 4,
 "nbformat_minor": 4
}
